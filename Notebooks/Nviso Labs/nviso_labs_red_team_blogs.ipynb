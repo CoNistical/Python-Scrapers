{
 "cells": [
  {
   "cell_type": "code",
   "execution_count": null,
   "id": "0c22b543-295f-4368-80cc-333ad6386fcb",
   "metadata": {},
   "outputs": [],
   "source": []
  }
 ],
 "metadata": {
  "kernelspec": {
   "display_name": "",
   "name": ""
  },
  "language_info": {
   "name": ""
  }
 },
 "nbformat": 4,
 "nbformat_minor": 5
}
