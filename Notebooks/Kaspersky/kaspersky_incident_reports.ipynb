{
 "cells": [
  {
   "cell_type": "code",
   "execution_count": 1,
   "id": "81613bf3-8522-47e5-a201-c7c8029d0f1d",
   "metadata": {},
   "outputs": [
    {
     "name": "stdout",
     "output_type": "stream",
     "text": [
      "['https://securelist.com/shai-hulud-worm-infects-500-npm-packages-in-a-supply-chain-attack/117547/', 'https://securelist.com/apt41-in-africa/116986/', 'https://securelist.com/new-backdoor-mimics-security-software-update/116246/', 'https://securelist.com/toddycat-apt-exploits-vulnerability-in-eset-software-for-dll-proxying/116086/', 'https://securelist.com/xz-backdoor-part-3-hooking-ssh/113007/', 'https://securelist.com/xz-backdoor-story-part-2-social-engineering/112476/', 'https://securelist.com/xz-backdoor-story-part-1/112354/', 'https://securelist.com/a-hack-in-hand-is-worth-two-in-the-bush/110794/', 'https://securelist.com/qbot-banker-business-correspondence/109535/', 'https://securelist.com/gopuram-backdoor-deployed-through-3cx-supply-chain-attack/109344/', 'https://securelist.com/cve-2022-41040-and-cve-2022-41082-zero-days-in-ms-exchange/108364/', 'https://securelist.com/ongoing-exploitation-of-cve-2022-41352-zimbra-0-day/107703/', 'https://securelist.com/two-more-malicious-python-packages-in-the-pypi/107218/', 'https://securelist.com/lofylife-malicious-npm-packages/107014/', 'https://securelist.com/cve-2022-30190-follina-vulnerability-in-msdt-description-and-counteraction/106703/', 'https://securelist.com/keyloggers-how-they-work-and-how-to-detect-them-part-1/36138/', 'https://securelist.com/scammers-delivery-service-exclusively-dangerous/66515/', 'https://securelist.com/ransomexx-trojan-attacks-linux-systems/99279/', 'https://securelist.com/librarian-ghouls-apt-wakes-up-computers-to-steal-data-and-mine-crypto/116536/', 'https://securelist.com/operation-synchole-watering-hole-attacks-by-lazarus/116326/', 'https://securelist.com/mysterysnail-new-version/116226/', 'https://securelist.com/goffee-apt-new-attacks/116139/']\n"
     ]
    }
   ],
   "source": [
    "################################################################\n",
    "# Kasperky Securelist Scraper                                  #\n",
    "# Pulls Incident reports from the site!                        #\n",
    "################################################################\n",
    "\n",
    "import re\n",
    "import requests\n",
    "from bs4 import BeautifulSoup\n",
    "\n",
    "def check_status(url):\n",
    "\n",
    "    headers = {\n",
    "        \"User-Agent\": \"Mozilla/5.0 (Windows NT 10.0; Win64; x64) AppleWebKit/537.36 (KHTML, like Gecko) Chrome/140.0.0.0 Safari/537.36\",\n",
    "        \"Accept\": \"application/html\"\n",
    "    }\n",
    "\n",
    "    r = requests.get(url, headers=headers, timeout=10)\n",
    "    \n",
    "    if r.status_code == 200:\n",
    "        return r.text\n",
    "    else:\n",
    "        return f\"Error: {r.status_code}\"\n",
    "\n",
    "def parse_links(html):\n",
    "    if not html:\n",
    "        return []\n",
    "\n",
    "    soup = BeautifulSoup(html, 'html.parser')\n",
    "\n",
    "    links = []\n",
    "\n",
    "    pattern = re.compile(r\"https://securelist.com/\")\n",
    "    \n",
    "    for h3 in soup.find_all('h3'):\n",
    "        a_tag = h3.find('a', href=True)\n",
    "        if a_tag and pattern.search(a_tag['href']):\n",
    "            links.append(a_tag['href'])\n",
    "\n",
    "    return links\n",
    "\n",
    "if __name__ == \"__main__\":\n",
    "    url = \"https://securelist.com/category/incidents/\"\n",
    "    html = check_status(url)\n",
    "    get_links = parse_links(html)\n",
    "    print(get_links)"
   ]
  }
 ],
 "metadata": {
  "kernelspec": {
   "display_name": "Python 3 (ipykernel)",
   "language": "python",
   "name": "python3"
  },
  "language_info": {
   "codemirror_mode": {
    "name": "ipython",
    "version": 3
   },
   "file_extension": ".py",
   "mimetype": "text/x-python",
   "name": "python",
   "nbconvert_exporter": "python",
   "pygments_lexer": "ipython3",
   "version": "3.13.7"
  }
 },
 "nbformat": 4,
 "nbformat_minor": 5
}
