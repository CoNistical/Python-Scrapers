{
 "cells": [
  {
   "cell_type": "code",
   "execution_count": 1,
   "id": "9a8c5555-f473-40bd-a70d-891771ad231c",
   "metadata": {},
   "outputs": [
    {
     "name": "stdout",
     "output_type": "stream",
     "text": [
      "['https://securelist.com/industrial-threat-predictions-2025/115327/', 'https://securelist.com/ksb-dark-web-predictions-2025/114966/', 'https://securelist.com/ksb-story-of-the-year-2024/114883/', 'https://securelist.com/ksb-2024-statistics/114795/', 'https://securelist.com/ksb-consumer-and-privacy-predictions-2025/114620/', 'https://securelist.com/ksb-apt-predictions-2025/114582/', 'https://securelist.com/ksb-financial-and-crimeware-predictions-2025/114565/', 'https://securelist.com/ksb-ics-predictions-2024/111835/', 'https://securelist.com/ksb-privacy-predictions-2024/111815/', 'https://securelist.com/darknet-predictions-for-2024/111763/', 'https://securelist.com/story-of-the-year-2023-ai-impact-on-cybersecurity/111341/', 'https://securelist.com/ksb-2023-statistics/111156/', 'https://securelist.com/kaspersky-security-bulletin-consumer-threats-2024/111135/', 'https://securelist.com/kaspersky-security-bulletin-crimeware-financial-threats-2024/111093/', 'https://securelist.com/kaspersky-security-bulletin-apt-predictions-2024/111048/', 'https://securelist.com/keyloggers-how-they-work-and-how-to-detect-them-part-1/36138/', 'https://securelist.com/scammers-delivery-service-exclusively-dangerous/66515/', 'https://securelist.com/ransomexx-trojan-attacks-linux-systems/99279/', 'https://securelist.com/librarian-ghouls-apt-wakes-up-computers-to-steal-data-and-mine-crypto/116536/', 'https://securelist.com/operation-synchole-watering-hole-attacks-by-lazarus/116326/', 'https://securelist.com/mysterysnail-new-version/116226/', 'https://securelist.com/goffee-apt-new-attacks/116139/']\n"
     ]
    }
   ],
   "source": [
    "################################################################\n",
    "# Kasperky Securelist Scraper                                  #\n",
    "# Pulls crimeware reports from the site!                       #\n",
    "################################################################\n",
    "\n",
    "import re\n",
    "import requests\n",
    "from bs4 import BeautifulSoup\n",
    "\n",
    "def check_status(url):\n",
    "\n",
    "    headers = {\n",
    "        \"User-Agent\": \"Mozilla/5.0 (Windows NT 10.0; Win64; x64) AppleWebKit/537.36 (KHTML, like Gecko) Chrome/140.0.0.0 Safari/537.36\",\n",
    "        \"Accept\": \"application/html\"\n",
    "    }\n",
    "\n",
    "    r = requests.get(url, headers=headers, timeout=10)\n",
    "    \n",
    "    if r.status_code == 200:\n",
    "        return r.text\n",
    "    else:\n",
    "        return f\"Error: {r.status_code}\"\n",
    "\n",
    "def parse_links(html):\n",
    "    if not html:\n",
    "        return []\n",
    "\n",
    "    soup = BeautifulSoup(html, 'html.parser')\n",
    "\n",
    "    links = []\n",
    "\n",
    "    pattern = re.compile(r\"https://securelist.com/\")\n",
    "    \n",
    "    for h3 in soup.find_all('h3'):\n",
    "        a_tag = h3.find('a', href=True)\n",
    "        if a_tag and pattern.search(a_tag['href']):\n",
    "            links.append(a_tag['href'])\n",
    "\n",
    "    return links\n",
    "\n",
    "if __name__ == \"__main__\":\n",
    "    url = \"https://securelist.com/category/kaspersky-security-bulletin/\"\n",
    "    html = check_status(url)\n",
    "    get_links = parse_links(html)\n",
    "    print(get_links)"
   ]
  }
 ],
 "metadata": {
  "kernelspec": {
   "display_name": "Python 3 (ipykernel)",
   "language": "python",
   "name": "python3"
  },
  "language_info": {
   "codemirror_mode": {
    "name": "ipython",
    "version": 3
   },
   "file_extension": ".py",
   "mimetype": "text/x-python",
   "name": "python",
   "nbconvert_exporter": "python",
   "pygments_lexer": "ipython3",
   "version": "3.13.7"
  }
 },
 "nbformat": 4,
 "nbformat_minor": 5
}
