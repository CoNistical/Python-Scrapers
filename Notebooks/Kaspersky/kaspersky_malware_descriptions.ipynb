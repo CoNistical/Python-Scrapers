{
 "cells": [
  {
   "cell_type": "code",
   "execution_count": 1,
   "id": "0dd4dd9d-1f07-4e34-814b-9e2be9cc3fe7",
   "metadata": {},
   "outputs": [
    {
     "name": "stdout",
     "output_type": "stream",
     "text": [
      "['https://securelist.com/shai-hulud-worm-infects-500-npm-packages-in-a-supply-chain-attack/117547/', 'https://securelist.com/efimer-trojan/117148/', 'https://securelist.com/av-killer-exploiting-throttlestop-sys/117026/', 'https://securelist.com/batavia-spyware-steals-data-from-russian-organizations/116866/', 'https://securelist.com/sparkkitty-ios-android-malware/116793/', 'https://securelist.com/triada-trojan-modules-analysis/116380/', 'https://securelist.com/lumma-fake-captcha-attacks-analysis/116274/', 'https://securelist.com/miner-clipbanker-sourceforge-campaign/116088/', 'https://securelist.com/tookps/116019/', 'https://securelist.com/backdoors-and-stealers-prey-on-deepseek-and-grok/115801/', 'https://securelist.com/silentcryptominer-spreads-through-blackmail-on-youtube/115788/', 'https://securelist.com/gitvenom-campaign/115694/', 'https://securelist.com/starydobry-campaign-spreads-xmrig-miner-via-torrents/115509/', 'https://securelist.com/sparkcat-stealer-in-app-store-and-google-play/115385/', 'https://securelist.com/tria-stealer-collects-sms-data-from-android-devices/115295/', 'https://securelist.com/keyloggers-how-they-work-and-how-to-detect-them-part-1/36138/', 'https://securelist.com/scammers-delivery-service-exclusively-dangerous/66515/', 'https://securelist.com/ransomexx-trojan-attacks-linux-systems/99279/', 'https://securelist.com/librarian-ghouls-apt-wakes-up-computers-to-steal-data-and-mine-crypto/116536/', 'https://securelist.com/operation-synchole-watering-hole-attacks-by-lazarus/116326/', 'https://securelist.com/mysterysnail-new-version/116226/', 'https://securelist.com/goffee-apt-new-attacks/116139/']\n"
     ]
    }
   ],
   "source": [
    "################################################################\n",
    "# Kasperky Securelist Scraper                                  #\n",
    "# Pulls Malware descriptions from the site!                    #\n",
    "################################################################\n",
    "\n",
    "import re\n",
    "import requests\n",
    "from bs4 import BeautifulSoup\n",
    "\n",
    "def check_status(url):\n",
    "\n",
    "    headers = {\n",
    "        \"User-Agent\": \"Mozilla/5.0 (Windows NT 10.0; Win64; x64) AppleWebKit/537.36 (KHTML, like Gecko) Chrome/140.0.0.0 Safari/537.36\",\n",
    "        \"Accept\": \"application/html\"\n",
    "    }\n",
    "\n",
    "    r = requests.get(url, headers=headers, timeout=10)\n",
    "    \n",
    "    if r.status_code == 200:\n",
    "        return r.text\n",
    "    else:\n",
    "        return f\"Error: {r.status_code}\"\n",
    "\n",
    "def parse_links(html):\n",
    "    if not html:\n",
    "        return []\n",
    "\n",
    "    soup = BeautifulSoup(html, 'html.parser')\n",
    "\n",
    "    links = []\n",
    "\n",
    "    pattern = re.compile(r\"https://securelist.com/\")\n",
    "    \n",
    "    for h3 in soup.find_all('h3'):\n",
    "        a_tag = h3.find('a', href=True)\n",
    "        if a_tag and pattern.search(a_tag['href']):\n",
    "            links.append(a_tag['href'])\n",
    "\n",
    "    return links\n",
    "\n",
    "if __name__ == \"__main__\":\n",
    "    url = \"https://securelist.com/category/malware-descriptions/\"\n",
    "    html = check_status(url)\n",
    "    get_links = parse_links(html)\n",
    "    print(get_links)"
   ]
  }
 ],
 "metadata": {
  "kernelspec": {
   "display_name": "Python 3 (ipykernel)",
   "language": "python",
   "name": "python3"
  },
  "language_info": {
   "codemirror_mode": {
    "name": "ipython",
    "version": 3
   },
   "file_extension": ".py",
   "mimetype": "text/x-python",
   "name": "python",
   "nbconvert_exporter": "python",
   "pygments_lexer": "ipython3",
   "version": "3.13.7"
  }
 },
 "nbformat": 4,
 "nbformat_minor": 5
}
