{
 "cells": [
  {
   "cell_type": "code",
   "execution_count": 1,
   "id": "13dd9ef0-7ce3-4f70-a34d-b38f1a345e31",
   "metadata": {},
   "outputs": [
    {
     "name": "stdout",
     "output_type": "stream",
     "text": [
      "['https://securelist.com/ddos-report-q3-2022/107860/', 'https://securelist.com/ddos-attacks-in-q2-2022/107025/', 'https://securelist.com/ddos-attacks-in-q1-2022/106358/', 'https://securelist.com/ddos-attacks-in-q4-2021/105784/', 'https://securelist.com/ddos-attacks-in-q3-2021/104796/', 'https://securelist.com/ddos-attacks-in-q2-2021/103424/', 'https://securelist.com/ddos-attacks-in-q1-2021/102166/', 'https://securelist.com/ddos-attacks-in-q4-2020/100650/', 'https://securelist.com/ddos-attacks-in-q3-2020/99171/', 'https://securelist.com/ddos-attacks-in-q2-2020/98077/', 'https://securelist.com/ddos-attacks-in-q1-2020/96837/', 'https://securelist.com/ddos-report-q4-2019/96154/', 'https://securelist.com/ddos-report-q3-2019/94958/', 'https://securelist.com/ddos-report-q2-2019/91934/', 'https://securelist.com/ddos-report-q1-2019/90792/', 'https://securelist.com/keyloggers-how-they-work-and-how-to-detect-them-part-1/36138/', 'https://securelist.com/scammers-delivery-service-exclusively-dangerous/66515/', 'https://securelist.com/ransomexx-trojan-attacks-linux-systems/99279/', 'https://securelist.com/librarian-ghouls-apt-wakes-up-computers-to-steal-data-and-mine-crypto/116536/', 'https://securelist.com/operation-synchole-watering-hole-attacks-by-lazarus/116326/', 'https://securelist.com/mysterysnail-new-version/116226/', 'https://securelist.com/goffee-apt-new-attacks/116139/']\n"
     ]
    }
   ],
   "source": [
    "################################################################\n",
    "# Kasperky Securelist Scraper                                  #\n",
    "# Pulls crimeware reports from the site!                       #\n",
    "################################################################\n",
    "\n",
    "import re\n",
    "import requests\n",
    "from bs4 import BeautifulSoup\n",
    "\n",
    "def check_status(url):\n",
    "\n",
    "    headers = {\n",
    "        \"User-Agent\": \"Mozilla/5.0 (Windows NT 10.0; Win64; x64) AppleWebKit/537.36 (KHTML, like Gecko) Chrome/140.0.0.0 Safari/537.36\",\n",
    "        \"Accept\": \"application/html\"\n",
    "    }\n",
    "\n",
    "    r = requests.get(url, headers=headers, timeout=10)\n",
    "    \n",
    "    if r.status_code == 200:\n",
    "        return r.text\n",
    "    else:\n",
    "        return f\"Error: {r.status_code}\"\n",
    "\n",
    "def parse_links(html):\n",
    "    if not html:\n",
    "        return []\n",
    "\n",
    "    soup = BeautifulSoup(html, 'html.parser')\n",
    "\n",
    "    links = []\n",
    "\n",
    "    pattern = re.compile(r\"https://securelist.com/\")\n",
    "    \n",
    "    for h3 in soup.find_all('h3'):\n",
    "        a_tag = h3.find('a', href=True)\n",
    "        if a_tag and pattern.search(a_tag['href']):\n",
    "            links.append(a_tag['href'])\n",
    "\n",
    "    return links\n",
    "\n",
    "if __name__ == \"__main__\":\n",
    "    url = \"https://securelist.com/category/ddos-reports/\"\n",
    "    html = check_status(url)\n",
    "    get_links = parse_links(html)\n",
    "    print(get_links)"
   ]
  }
 ],
 "metadata": {
  "kernelspec": {
   "display_name": "Python 3 (ipykernel)",
   "language": "python",
   "name": "python3"
  },
  "language_info": {
   "codemirror_mode": {
    "name": "ipython",
    "version": 3
   },
   "file_extension": ".py",
   "mimetype": "text/x-python",
   "name": "python",
   "nbconvert_exporter": "python",
   "pygments_lexer": "ipython3",
   "version": "3.13.7"
  }
 },
 "nbformat": 4,
 "nbformat_minor": 5
}
