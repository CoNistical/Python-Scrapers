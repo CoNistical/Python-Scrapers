{
 "cells": [
  {
   "cell_type": "code",
   "execution_count": 1,
   "id": "a4b7132d-ca6e-4630-b1f2-9fa10fcecb4f",
   "metadata": {},
   "outputs": [
    {
     "name": "stdout",
     "output_type": "stream",
     "text": [
      "['https://securelist.com/new-phishing-and-scam-trends-in-2025/117217/', 'https://securelist.com/svg-phishing/116256/', 'https://securelist.com/spam-and-phishing-report-2024/115536/', 'https://securelist.com/nigerian-scams-2024/115388/', 'https://securelist.com/spear-phishing-meets-mass/113125/', 'https://securelist.com/2fa-phishing/112805/', 'https://securelist.com/message-board-scam/112691/', 'https://securelist.com/qr-codes-in-phishing/110676/', 'https://securelist.com/phishing-with-hacked-sites/110334/', 'https://securelist.com/hot-and-cold-cryptowallet-phishing/110136/', 'https://securelist.com/ipfs-phishing/109158/', 'https://securelist.com/agent-tesla-malicious-spam-campaign/107478/', 'https://securelist.com/mail-text-scam/106926/', 'https://securelist.com/html-attachments-in-phishing-e-mails/106481/', 'https://securelist.com/phishing-kit-market-whats-inside-off-the-shelf-phishing-packages/106149/', 'https://securelist.com/keyloggers-how-they-work-and-how-to-detect-them-part-1/36138/', 'https://securelist.com/scammers-delivery-service-exclusively-dangerous/66515/', 'https://securelist.com/ransomexx-trojan-attacks-linux-systems/99279/', 'https://securelist.com/librarian-ghouls-apt-wakes-up-computers-to-steal-data-and-mine-crypto/116536/', 'https://securelist.com/operation-synchole-watering-hole-attacks-by-lazarus/116326/', 'https://securelist.com/mysterysnail-new-version/116226/', 'https://securelist.com/goffee-apt-new-attacks/116139/']\n"
     ]
    }
   ],
   "source": [
    "################################################################\n",
    "# Kasperky Securelist Scraper                                  #\n",
    "# Pulls Spam and Phishing reports from the site!               #\n",
    "################################################################\n",
    "\n",
    "import re\n",
    "import requests\n",
    "from bs4 import BeautifulSoup\n",
    "\n",
    "def check_status(url):\n",
    "\n",
    "    headers = {\n",
    "        \"User-Agent\": \"Mozilla/5.0 (Windows NT 10.0; Win64; x64) AppleWebKit/537.36 (KHTML, like Gecko) Chrome/140.0.0.0 Safari/537.36\",\n",
    "        \"Accept\": \"application/html\"\n",
    "    }\n",
    "\n",
    "    r = requests.get(url, headers=headers, timeout=10)\n",
    "    \n",
    "    if r.status_code == 200:\n",
    "        return r.text\n",
    "    else:\n",
    "        return f\"Error: {r.status_code}\"\n",
    "\n",
    "def parse_links(html):\n",
    "    if not html:\n",
    "        return []\n",
    "\n",
    "    soup = BeautifulSoup(html, 'html.parser')\n",
    "\n",
    "    links = []\n",
    "\n",
    "    pattern = re.compile(r\"https://securelist.com/\")\n",
    "    \n",
    "    for h3 in soup.find_all('h3'):\n",
    "        a_tag = h3.find('a', href=True)\n",
    "        if a_tag and pattern.search(a_tag['href']):\n",
    "            links.append(a_tag['href'])\n",
    "\n",
    "    return links\n",
    "\n",
    "if __name__ == \"__main__\":\n",
    "    url = \"https://securelist.com/category/spam-and-phishing-mailings/\"\n",
    "    html = check_status(url)\n",
    "    get_links = parse_links(html)\n",
    "    print(get_links)"
   ]
  }
 ],
 "metadata": {
  "kernelspec": {
   "display_name": "Python 3 (ipykernel)",
   "language": "python",
   "name": "python3"
  },
  "language_info": {
   "codemirror_mode": {
    "name": "ipython",
    "version": 3
   },
   "file_extension": ".py",
   "mimetype": "text/x-python",
   "name": "python",
   "nbconvert_exporter": "python",
   "pygments_lexer": "ipython3",
   "version": "3.13.7"
  }
 },
 "nbformat": 4,
 "nbformat_minor": 5
}
