{
 "cells": [
  {
   "cell_type": "code",
   "execution_count": 1,
   "id": "572d3054-8ad5-4ab4-b413-3cfce6d0b5ec",
   "metadata": {},
   "outputs": [
    {
     "name": "stdout",
     "output_type": "stream",
     "text": [
      "['https://securelist.com/evolution-of-zanubis-banking-trojan-for-android/116588/', 'https://securelist.com/head-mare-twelve-collaboration/115887/', 'https://securelist.com/cyber-anarchy-squad-attacks-with-uncommon-trojans/114990/', 'https://securelist.com/kral-amos-vidar-acr-stealers/114237/', 'https://securelist.com/crypt-ghouls-hacktivists-tools-overlap-analysis/114217/', 'https://securelist.com/key-group-ransomware-samples-and-telegram-schemes/114025/', 'https://securelist.com/blackjack-hacktivists-connection-with-twelve/113959/', 'https://securelist.com/twelve-group-unified-kill-chain/113877/', 'https://securelist.com/sambaspy-rat-targets-italian-users/113851/', 'https://securelist.com/mallox-ransomware/113529/', 'https://securelist.com/head-mare-hacktivists/113555/', 'https://securelist.com/sexi-key-group-mallox-ransomware/113183/', 'https://securelist.com/crimeware-report-stealers/112633/', 'https://securelist.com/crimeware-report-android-malware/112121/', 'https://securelist.com/crimeware-report-fakesg-akira-amos/111483/', 'https://securelist.com/keyloggers-how-they-work-and-how-to-detect-them-part-1/36138/', 'https://securelist.com/scammers-delivery-service-exclusively-dangerous/66515/', 'https://securelist.com/ransomexx-trojan-attacks-linux-systems/99279/', 'https://securelist.com/librarian-ghouls-apt-wakes-up-computers-to-steal-data-and-mine-crypto/116536/', 'https://securelist.com/operation-synchole-watering-hole-attacks-by-lazarus/116326/', 'https://securelist.com/mysterysnail-new-version/116226/', 'https://securelist.com/goffee-apt-new-attacks/116139/']\n"
     ]
    }
   ],
   "source": [
    "################################################################\n",
    "# Kasperky Securelist Scraper                                  #\n",
    "# Pulls crimeware reports from the site!                       #\n",
    "################################################################\n",
    "\n",
    "import re\n",
    "import requests\n",
    "from bs4 import BeautifulSoup\n",
    "\n",
    "def check_status(url):\n",
    "\n",
    "    headers = {\n",
    "        \"User-Agent\": \"Mozilla/5.0 (Windows NT 10.0; Win64; x64) AppleWebKit/537.36 (KHTML, like Gecko) Chrome/140.0.0.0 Safari/537.36\",\n",
    "        \"Accept\": \"application/html\"\n",
    "    }\n",
    "\n",
    "    r = requests.get(url, headers=headers, timeout=10)\n",
    "    \n",
    "    if r.status_code == 200:\n",
    "        return r.text\n",
    "    else:\n",
    "        return f\"Error: {r.status_code}\"\n",
    "\n",
    "def parse_links(html):\n",
    "    if not html:\n",
    "        return []\n",
    "\n",
    "    soup = BeautifulSoup(html, 'html.parser')\n",
    "\n",
    "    links = []\n",
    "\n",
    "    pattern = re.compile(r\"https://securelist.com/\")\n",
    "    \n",
    "    for h3 in soup.find_all('h3'):\n",
    "        a_tag = h3.find('a', href=True)\n",
    "        if a_tag and pattern.search(a_tag['href']):\n",
    "            links.append(a_tag['href'])\n",
    "\n",
    "    return links\n",
    "\n",
    "if __name__ == \"__main__\":\n",
    "    url = \"https://securelist.com/category/crimeware-reports/\"\n",
    "    html = check_status(url)\n",
    "    get_links = parse_links(html)\n",
    "    print(get_links)"
   ]
  }
 ],
 "metadata": {
  "kernelspec": {
   "display_name": "Python 3 (ipykernel)",
   "language": "python",
   "name": "python3"
  },
  "language_info": {
   "codemirror_mode": {
    "name": "ipython",
    "version": 3
   },
   "file_extension": ".py",
   "mimetype": "text/x-python",
   "name": "python",
   "nbconvert_exporter": "python",
   "pygments_lexer": "ipython3",
   "version": "3.13.7"
  }
 },
 "nbformat": 4,
 "nbformat_minor": 5
}
