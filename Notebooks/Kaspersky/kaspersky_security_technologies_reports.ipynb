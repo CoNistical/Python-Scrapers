{
 "cells": [
  {
   "cell_type": "code",
   "execution_count": 1,
   "id": "f365397f-cac9-43d5-a903-ec7667b312e5",
   "metadata": {},
   "outputs": [
    {
     "name": "stdout",
     "output_type": "stream",
     "text": [
      "['https://securelist.com/macos-security-and-typical-attacks/117367/', 'https://securelist.com/applied-yara-training-qa/104007/', 'https://securelist.com/detecting-unknown-threats-a-honeypot-how-to/102990/', 'https://securelist.com/how-to-confuse-antimalware-neural-networks-adversarial-attacks-and-protection/102949/', 'https://securelist.com/how-we-protect-against-sunburst-backdoor/99959/', 'https://securelist.com/adaptive-protection-against-invisible-threats/99772/', 'https://securelist.com/lookalike-domains-and-how-to-outfox-them/99539/', 'https://securelist.com/big-threats-using-code-similarity-part-1/97239/', 'https://securelist.com/attck-evaluation-results/96849/', 'https://securelist.com/neutralization-reaction/81620/', 'https://securelist.com/features-of-secure-os-realization/77469/', 'https://securelist.com/deceive-in-order-to-detect/76367/', 'https://securelist.com/vdi-non-virtual-problems-of-virtual-desktop-security-and-how-to-solve-them-for-real/75279/', 'https://securelist.com/disbanding-the-zoo/72623/', 'https://securelist.com/indicators-of-compromise-as-a-way-to-reduce-risk/71915/', 'https://securelist.com/keyloggers-how-they-work-and-how-to-detect-them-part-1/36138/', 'https://securelist.com/scammers-delivery-service-exclusively-dangerous/66515/', 'https://securelist.com/ransomexx-trojan-attacks-linux-systems/99279/', 'https://securelist.com/librarian-ghouls-apt-wakes-up-computers-to-steal-data-and-mine-crypto/116536/', 'https://securelist.com/operation-synchole-watering-hole-attacks-by-lazarus/116326/', 'https://securelist.com/mysterysnail-new-version/116226/', 'https://securelist.com/goffee-apt-new-attacks/116139/']\n"
     ]
    }
   ],
   "source": [
    "################################################################\n",
    "# Kasperky Securelist Scraper                                  #\n",
    "# Pulls Security Technology reports from the site!             #\n",
    "################################################################\n",
    "\n",
    "import re\n",
    "import requests\n",
    "from bs4 import BeautifulSoup\n",
    "\n",
    "def check_status(url):\n",
    "\n",
    "    headers = {\n",
    "        \"User-Agent\": \"Mozilla/5.0 (Windows NT 10.0; Win64; x64) AppleWebKit/537.36 (KHTML, like Gecko) Chrome/140.0.0.0 Safari/537.36\",\n",
    "        \"Accept\": \"application/html\"\n",
    "    }\n",
    "\n",
    "    r = requests.get(url, headers=headers, timeout=10)\n",
    "    \n",
    "    if r.status_code == 200:\n",
    "        return r.text\n",
    "    else:\n",
    "        return f\"Error: {r.status_code}\"\n",
    "\n",
    "def parse_links(html):\n",
    "    if not html:\n",
    "        return []\n",
    "\n",
    "    soup = BeautifulSoup(html, 'html.parser')\n",
    "\n",
    "    links = []\n",
    "\n",
    "    pattern = re.compile(r\"https://securelist.com/\")\n",
    "    \n",
    "    for h3 in soup.find_all('h3'):\n",
    "        a_tag = h3.find('a', href=True)\n",
    "        if a_tag and pattern.search(a_tag['href']):\n",
    "            links.append(a_tag['href'])\n",
    "\n",
    "    return links\n",
    "\n",
    "if __name__ == \"__main__\":\n",
    "    url = \"https://securelist.com/category/security-technologies/\"\n",
    "    html = check_status(url)\n",
    "    get_links = parse_links(html)\n",
    "    print(get_links)"
   ]
  }
 ],
 "metadata": {
  "kernelspec": {
   "display_name": "Python 3 (ipykernel)",
   "language": "python",
   "name": "python3"
  },
  "language_info": {
   "codemirror_mode": {
    "name": "ipython",
    "version": 3
   },
   "file_extension": ".py",
   "mimetype": "text/x-python",
   "name": "python",
   "nbconvert_exporter": "python",
   "pygments_lexer": "ipython3",
   "version": "3.13.7"
  }
 },
 "nbformat": 4,
 "nbformat_minor": 5
}
